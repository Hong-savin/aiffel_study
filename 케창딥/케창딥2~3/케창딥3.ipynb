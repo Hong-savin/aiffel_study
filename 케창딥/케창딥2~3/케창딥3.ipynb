{
 "cells": [
  {
   "cell_type": "markdown",
   "id": "91031a53",
   "metadata": {},
   "source": [
    "# 3.5.1 상수 텐서와 변수\n",
    "텐서플로에서 어떤 작업을 하려면 텐서가 필요합니다.\n",
    "텐서를 만들려면 초깃값이 필요합니다.\n",
    "예를 들어 모두 1이거나 0인 텐서를 만들거나(3-1), 랜덤한 분포에서 뽑은 값으로 텐서를 만들 수 있습니다.(3-2)"
   ]
  },
  {
   "cell_type": "code",
   "execution_count": 1,
   "id": "b82db5b6",
   "metadata": {},
   "outputs": [
    {
     "name": "stdout",
     "output_type": "stream",
     "text": [
      "tf.Tensor(\n",
      "[[1.]\n",
      " [1.]], shape=(2, 1), dtype=float32)\n"
     ]
    }
   ],
   "source": [
    "# 3-1 모두 1 또는 0인 텐서\n",
    "\n",
    "import tensorflow as tf\n",
    "x = tf.ones(shape=(2, 1)) # np.ones(shape=(2,1))과 동일\n",
    "print(x)"
   ]
  },
  {
   "cell_type": "code",
   "execution_count": 2,
   "id": "15525f8f",
   "metadata": {},
   "outputs": [
    {
     "name": "stdout",
     "output_type": "stream",
     "text": [
      "tf.Tensor(\n",
      "[[0.]\n",
      " [0.]], shape=(2, 1), dtype=float32)\n"
     ]
    }
   ],
   "source": [
    "x = tf.zeros(shape=(2, 1)) # np.zeros(shape=(2,1))과 동일\n",
    "print(x)"
   ]
  },
  {
   "cell_type": "code",
   "execution_count": 3,
   "id": "1c3ef1e7",
   "metadata": {},
   "outputs": [
    {
     "name": "stdout",
     "output_type": "stream",
     "text": [
      "tf.Tensor(\n",
      "[[-0.4506952 ]\n",
      " [ 0.75043356]\n",
      " [ 0.2711579 ]], shape=(3, 1), dtype=float32)\n"
     ]
    }
   ],
   "source": [
    "# 3-2 랜덤 텐서 \n",
    "\n",
    "x = tf.random.normal(shape=(3, 1), mean=0., stddev=1.) \n",
    "# 평균이 0이고 표준편차가 1인 정규분포에서 뽑은 랜덤한 값으로 만든 텐서. np.random.normal(shape=(3,1), loc=0., scale=1.)과 동일 \n",
    "print(x)"
   ]
  },
  {
   "cell_type": "code",
   "execution_count": 4,
   "id": "2e405610",
   "metadata": {},
   "outputs": [
    {
     "name": "stdout",
     "output_type": "stream",
     "text": [
      "tf.Tensor(\n",
      "[[0.769464  ]\n",
      " [0.8335464 ]\n",
      " [0.33089638]], shape=(3, 1), dtype=float32)\n"
     ]
    }
   ],
   "source": [
    "x = tf.random.uniform(shape=(3, 1), minval=0., maxval=1.) \n",
    "# 0과 1 사이의 균등분포에서 뽑은 랜덤한 값으로 만든 텐서. np.random.uniform(shape=(3,1), low=0., high=1.)과 동일 \n",
    "print(x)"
   ]
  },
  {
   "cell_type": "markdown",
   "id": "e29dc1b3",
   "metadata": {},
   "source": [
    "넘파이 배열과 텐서플로 텐서 사이의 큰 차이점은 텐서플로 텐서에는 값을 할당할 수 없다는 것이다.\n",
    "즉 텐서플로 텐서는 상수이다."
   ]
  },
  {
   "cell_type": "code",
   "execution_count": 5,
   "id": "da037dff",
   "metadata": {},
   "outputs": [],
   "source": [
    "# 3-3 넘파이 배열에 값 할당하기\n",
    "import numpy as np\n",
    "\n",
    "x = np.ones(shape=(2, 2))\n",
    "x[0, 0] = 0."
   ]
  },
  {
   "cell_type": "markdown",
   "id": "481edfeb",
   "metadata": {},
   "source": [
    "텐서플로에서 같은 작업을 하면 에러가 발생한다."
   ]
  },
  {
   "cell_type": "code",
   "execution_count": 6,
   "id": "4c0697eb",
   "metadata": {},
   "outputs": [
    {
     "ename": "TypeError",
     "evalue": "'tensorflow.python.framework.ops.EagerTensor' object does not support item assignment",
     "output_type": "error",
     "traceback": [
      "\u001b[0;31m---------------------------------------------------------------------------\u001b[0m",
      "\u001b[0;31mTypeError\u001b[0m                                 Traceback (most recent call last)",
      "\u001b[0;32m/tmp/ipykernel_99/343068638.py\u001b[0m in \u001b[0;36m<module>\u001b[0;34m\u001b[0m\n\u001b[1;32m      2\u001b[0m \u001b[0;34m\u001b[0m\u001b[0m\n\u001b[1;32m      3\u001b[0m \u001b[0mx\u001b[0m \u001b[0;34m=\u001b[0m \u001b[0mtf\u001b[0m\u001b[0;34m.\u001b[0m\u001b[0mones\u001b[0m\u001b[0;34m(\u001b[0m\u001b[0mshape\u001b[0m\u001b[0;34m=\u001b[0m\u001b[0;34m(\u001b[0m\u001b[0;36m2\u001b[0m\u001b[0;34m,\u001b[0m \u001b[0;36m2\u001b[0m\u001b[0;34m)\u001b[0m\u001b[0;34m)\u001b[0m\u001b[0;34m\u001b[0m\u001b[0;34m\u001b[0m\u001b[0m\n\u001b[0;32m----> 4\u001b[0;31m \u001b[0mx\u001b[0m\u001b[0;34m[\u001b[0m\u001b[0;36m0\u001b[0m\u001b[0;34m,\u001b[0m \u001b[0;36m0\u001b[0m\u001b[0;34m]\u001b[0m \u001b[0;34m=\u001b[0m \u001b[0;36m0.\u001b[0m\u001b[0;34m\u001b[0m\u001b[0;34m\u001b[0m\u001b[0m\n\u001b[0m",
      "\u001b[0;31mTypeError\u001b[0m: 'tensorflow.python.framework.ops.EagerTensor' object does not support item assignment"
     ]
    }
   ],
   "source": [
    "# 3-4 텐서플로 텐서에 값을 할당하지 못함\n",
    "\n",
    "x = tf.ones(shape=(2, 2))\n",
    "x[0, 0] = 0."
   ]
  },
  {
   "cell_type": "markdown",
   "id": "22cd0679",
   "metadata": {},
   "source": [
    "tf.Variable은 텐서플로에서 수정 가능한 상태를 관리하기 위한 클래스다.\n",
    "변수를 만들려면 랜덤 텐서와 같이 초깃값을 제공해야 한다."
   ]
  },
  {
   "cell_type": "code",
   "execution_count": 7,
   "id": "7ff3264b",
   "metadata": {},
   "outputs": [
    {
     "name": "stdout",
     "output_type": "stream",
     "text": [
      "<tf.Variable 'Variable:0' shape=(3, 1) dtype=float32, numpy=\n",
      "array([[0.89406455],\n",
      "       [1.079386  ],\n",
      "       [0.22194304]], dtype=float32)>\n"
     ]
    }
   ],
   "source": [
    "# 3-5 텐서플로 변수 만들기\n",
    "\n",
    "v = tf.Variable(initial_value = tf.random.normal(shape=(3, 1)))\n",
    "print(v)"
   ]
  },
  {
   "cell_type": "markdown",
   "id": "18dbf727",
   "metadata": {},
   "source": [
    " 변수의 상태는 assign 메서드로 수정할 수 있다."
   ]
  },
  {
   "cell_type": "code",
   "execution_count": 8,
   "id": "8c642170",
   "metadata": {},
   "outputs": [
    {
     "data": {
      "text/plain": [
       "<tf.Variable 'UnreadVariable' shape=(3, 1) dtype=float32, numpy=\n",
       "array([[1.],\n",
       "       [1.],\n",
       "       [1.]], dtype=float32)>"
      ]
     },
     "execution_count": 8,
     "metadata": {},
     "output_type": "execute_result"
    }
   ],
   "source": [
    "# 3-6 텐서플로 변수에 값 할당하기\n",
    "\n",
    "v.assign(tf.ones((3, 1)))"
   ]
  },
  {
   "cell_type": "markdown",
   "id": "9e8e562c",
   "metadata": {},
   "source": [
    "변수의 일부 원소에만 적용할 수도 있다."
   ]
  },
  {
   "cell_type": "code",
   "execution_count": 9,
   "id": "29079091",
   "metadata": {},
   "outputs": [
    {
     "data": {
      "text/plain": [
       "<tf.Variable 'UnreadVariable' shape=(3, 1) dtype=float32, numpy=\n",
       "array([[3.],\n",
       "       [1.],\n",
       "       [1.]], dtype=float32)>"
      ]
     },
     "execution_count": 9,
     "metadata": {},
     "output_type": "execute_result"
    }
   ],
   "source": [
    "# 3-7 변수 일부에 값 할당하기\n",
    "v[0, 0].assign(3.)"
   ]
  },
  {
   "cell_type": "markdown",
   "id": "fd231b4d",
   "metadata": {},
   "source": [
    "비슷하기 assign_add()와 assign_sub()은 각각 +=, -=과 동일하다."
   ]
  },
  {
   "cell_type": "code",
   "execution_count": 10,
   "id": "f7d843c2",
   "metadata": {},
   "outputs": [
    {
     "data": {
      "text/plain": [
       "<tf.Variable 'UnreadVariable' shape=(3, 1) dtype=float32, numpy=\n",
       "array([[4.],\n",
       "       [2.],\n",
       "       [2.]], dtype=float32)>"
      ]
     },
     "execution_count": 10,
     "metadata": {},
     "output_type": "execute_result"
    }
   ],
   "source": [
    "# assign_add() 사용하기\n",
    "\n",
    "v.assign_add(tf.ones((3, 1)))"
   ]
  },
  {
   "cell_type": "markdown",
   "id": "045b7e06",
   "metadata": {},
   "source": [
    "# 3.5.2 텐서 연산: 텐서플로에서 수학 계산하기"
   ]
  },
  {
   "cell_type": "code",
   "execution_count": 11,
   "id": "18a74124",
   "metadata": {},
   "outputs": [
    {
     "name": "stdout",
     "output_type": "stream",
     "text": [
      "tf.Tensor(\n",
      "[[1. 1.]\n",
      " [1. 1.]], shape=(2, 2), dtype=float32) tf.Tensor(\n",
      "[[1. 1.]\n",
      " [1. 1.]], shape=(2, 2), dtype=float32) tf.Tensor(\n",
      "[[1. 1.]\n",
      " [1. 1.]], shape=(2, 2), dtype=float32) tf.Tensor(\n",
      "[[2. 2.]\n",
      " [2. 2.]], shape=(2, 2), dtype=float32) tf.Tensor(\n",
      "[[4. 4.]\n",
      " [4. 4.]], shape=(2, 2), dtype=float32)\n"
     ]
    }
   ],
   "source": [
    "# 3-9 기본적인 수학 연산\n",
    "a = tf.ones((2, 2))\n",
    "b = tf.square(a) # 제곱 계산\n",
    "c = tf.sqrt(a) # 제곱근 계산\n",
    "d = b + c\n",
    "e = tf.matmul(a, b) # 두 텐서의 점곱 계산\n",
    "e *= d\n",
    "\n",
    "print(a, b, c, d, e)"
   ]
  },
  {
   "cell_type": "markdown",
   "id": "68a9374a",
   "metadata": {},
   "source": [
    "# 3.5.3 GradientTape API 다시 살펴보기\n",
    "미분 가능한 표현이라면 어떤 입력에 대해서도 그레디언트를 계산할 수 있다.\n",
    "GradientTape 블록을 시작하고 하나 또는 여러 입력 텐서에 대해 계산을 수행한 후에 입력에 대해 결과의 기울기를 구하면 된다."
   ]
  },
  {
   "cell_type": "code",
   "execution_count": 12,
   "id": "aca6d5bb",
   "metadata": {},
   "outputs": [
    {
     "name": "stdout",
     "output_type": "stream",
     "text": [
      "tf.Tensor(6.0, shape=(), dtype=float32)\n"
     ]
    }
   ],
   "source": [
    "# 3-10 GradientTape 사용하기\n",
    "\n",
    "input_var = tf.Variable(initial_value = 3.)\n",
    "with tf.GradientTape() as tape:\n",
    "    result = tf.square(input_var)\n",
    "gradient = tape.gradient(result, input_var)\n",
    "print(gradient)"
   ]
  },
  {
   "cell_type": "markdown",
   "id": "20411eec",
   "metadata": {},
   "source": [
    "실제로 입력은 어떤 탠서라도 가능하다. \n",
    "하지만 텐서플로는 기본적으로 훈련 가능한 변수만 추적한다.\n",
    "셍수 텐서의 경우 tape.watch()를 호출하여 추적한다는 것을 수동으러 알려주어야 한다."
   ]
  },
  {
   "cell_type": "code",
   "execution_count": 13,
   "id": "6d5f4208",
   "metadata": {},
   "outputs": [
    {
     "name": "stdout",
     "output_type": "stream",
     "text": [
      "tf.Tensor(6.0, shape=(), dtype=float32)\n"
     ]
    }
   ],
   "source": [
    "# 3-11 상수 텐서 입력과 함께 GradientTape 사용하기\n",
    "\n",
    "input_const = tf.constant(3.)\n",
    "with tf.GradientTape() as tape:\n",
    "    tape.watch(input_const)\n",
    "    result = tf.square(input_const)\n",
    "gradient = tape.gradient(result, input_const)\n",
    "print(gradient)"
   ]
  },
  {
   "cell_type": "markdown",
   "id": "eabd4c35",
   "metadata": {},
   "source": [
    "그레이디언트 테이프는 강력한 유틸리티이다. 그레이디언트의 기울기도 계산할 수 있다."
   ]
  },
  {
   "cell_type": "code",
   "execution_count": 14,
   "id": "3b04ec50",
   "metadata": {},
   "outputs": [
    {
     "name": "stdout",
     "output_type": "stream",
     "text": [
      "tf.Tensor(9.8, shape=(), dtype=float32)\n"
     ]
    }
   ],
   "source": [
    "# 3-12 그레이디언트 테이프를 중첩하여 이계도 그레이디언트 계산하기\n",
    "\n",
    "time = tf.Variable(0.)\n",
    "with tf.GradientTape() as outer_tape:\n",
    "    with tf.GradientTape() as inner_tape:\n",
    "        position = 4.9 * time ** 2\n",
    "    speed = inner_tape.gradient(position, time)\n",
    "acceleration = outer_tape.gradient(speed, time)\n",
    "print(acceleration)"
   ]
  },
  {
   "cell_type": "markdown",
   "id": "e41bbd8e",
   "metadata": {},
   "source": [
    "# 3.5.4 End-to-End 예제: 텐서플로 선형 분류기"
   ]
  },
  {
   "cell_type": "code",
   "execution_count": 15,
   "id": "f8db27cb",
   "metadata": {},
   "outputs": [],
   "source": [
    "# 3-13 2D 평면에 두 클래스의 랜덤한 포인트 생성하기\n",
    "\n",
    "num_samples_per_class = 1000\n",
    "# 첫번째 클래스의 포인트를 생성합니다: 1000개의 랜덤한 2D 포인트, \n",
    "# cov=[[1, 0.5], [0.5, 1]]은 왼쪽 아래에서 오른쪽 위로 향하는 태원형의 포인트 클라우드에 해당합니다\n",
    "negative_samples = np.random.multivariate_normal(\n",
    "    mean = [0, 3],\n",
    "    cov  = [[1, 0.5], [0.5, 1]],\n",
    "    size = num_samples_per_class)\n",
    "\n",
    "# 동일한 공분산 행렬과 다른 평균을 사용하여 다른 클래스의 포인트를 생성합니다.\n",
    "positive_samples = np.random.multivariate_normal(\n",
    "    mean = [3, 0],\n",
    "    cov  = [[1, 0.5], [0.5, 1]],\n",
    "    size = num_samples_per_class)"
   ]
  },
  {
   "cell_type": "code",
   "execution_count": 16,
   "id": "077e30ff",
   "metadata": {},
   "outputs": [],
   "source": [
    "# 3-14 두 클래스를 (2000, 2) 크기의 한 배열로 쌓기\n",
    "\n",
    "inputs = np.vstack((negative_samples, positive_samples)).astype(np.float32)"
   ]
  },
  {
   "cell_type": "code",
   "execution_count": 17,
   "id": "4b3eaa60",
   "metadata": {},
   "outputs": [],
   "source": [
    "# 3-16 0과 1로 구성된 타깃 생성하기\n",
    "\n",
    "targets = np.vstack((np.zeros((num_samples_per_class, 1), dtype = \"float32\"),\n",
    "                    np.ones((num_samples_per_class, 1), dtype = \"float32\")))"
   ]
  },
  {
   "cell_type": "code",
   "execution_count": 18,
   "id": "44b01a34",
   "metadata": {},
   "outputs": [
    {
     "data": {
      "image/png": "[encoded data removed]",
      "text/plain": [
       "<Figure size 432x288 with 1 Axes>"
      ]
     },
     "metadata": {
      "needs_background": "light"
     },
     "output_type": "display_data"
    }
   ],
   "source": [
    "# 3-16 두 클래스의 포인트를 그래프로 그리기\n",
    "\n",
    "import matplotlib.pyplot as plt\n",
    "\n",
    "plt.scatter(inputs[:, 0], inputs[:, 1], c=targets[:, 0])\n",
    "plt.show()"
   ]
  },
  {
   "cell_type": "code",
   "execution_count": 19,
   "id": "5f524de9",
   "metadata": {},
   "outputs": [],
   "source": [
    "# 3-17 선형 분류기의 변수 만들기\n",
    "input_dim = 2 # 입력은 2D 포인트\n",
    "output_dim = 1 # 출력 예측은 샘플당 하나의 점수(0에 가까우면 샘플을 클래스 0으로 예측하고, 1에 가까우면 클래스 1로 예측)\n",
    "W = tf.Variable(initial_value = tf.random.uniform(shape=(input_dim, output_dim)))\n",
    "b = tf.Variable(initial_value = tf.zeros(shape=(output_dim,)))"
   ]
  },
  {
   "cell_type": "code",
   "execution_count": 20,
   "id": "0fc57a62",
   "metadata": {},
   "outputs": [],
   "source": [
    "# 3-18 정방향 패스 함수\n",
    "def model(inputs):\n",
    "    return tf.matmul(inputs, W) + b"
   ]
  },
  {
   "cell_type": "code",
   "execution_count": 21,
   "id": "472e0f50",
   "metadata": {},
   "outputs": [],
   "source": [
    "# 3-19 평균 제곱 오차 손실 함수\n",
    "\n",
    "def square_loss(targets, predictions):\n",
    "    per_sample_losses = tf.square(targets - predictions) \n",
    "    # per_sample_losses는 targets나 predictions와 크기가 같은 텐서이며 각 샘플의 손실값을 담고있음\n",
    "    return tf.reduce_mean(per_sample_losses) # 샘플당 손실값을 하나의 스칼라 손실값으로 평균함."
   ]
  },
  {
   "cell_type": "code",
   "execution_count": 22,
   "id": "055d5cce",
   "metadata": {},
   "outputs": [],
   "source": [
    "# 3-20 훈련 스텝 함수\n",
    "\n",
    "learning_rate = 0.1\n",
    "\n",
    "def training_step(inputs, targets):\n",
    "    with tf.GradientTape() as tape:\n",
    "        predictions = model(inputs)\n",
    "        loss = square_loss(targets, predictions) # 그레이디언트 테이프 블록 안의 정방향 패스\n",
    "    grad_loss_wrt_W, grad_loss_wrt_b = tape.gradient(loss, [W,b]) # 가중치에 대한 손실의 기울기 구함\n",
    "    W.assign_sub(grad_loss_wrt_W * learning_rate) # 가중치 업데이트\n",
    "    b.assign_sub(grad_loss_wrt_b * learning_rate)\n",
    "    return loss"
   ]
  },
  {
   "cell_type": "code",
   "execution_count": 23,
   "id": "5249f714",
   "metadata": {},
   "outputs": [
    {
     "name": "stdout",
     "output_type": "stream",
     "text": [
      "0번째 스텝의 손실: 4.9781\n",
      "1번째 스텝의 손실: 0.6904\n",
      "2번째 스텝의 손실: 0.2193\n",
      "3번째 스텝의 손실: 0.1567\n",
      "4번째 스텝의 손실: 0.1397\n",
      "5번째 스텝의 손실: 0.1285\n",
      "6번째 스텝의 손실: 0.1189\n",
      "7번째 스텝의 손실: 0.1102\n",
      "8번째 스텝의 손실: 0.1023\n",
      "9번째 스텝의 손실: 0.0951\n",
      "10번째 스텝의 손실: 0.0886\n",
      "11번째 스텝의 손실: 0.0827\n",
      "12번째 스텝의 손실: 0.0774\n",
      "13번째 스텝의 손실: 0.0725\n",
      "14번째 스텝의 손실: 0.0681\n",
      "15번째 스텝의 손실: 0.0641\n",
      "16번째 스텝의 손실: 0.0604\n",
      "17번째 스텝의 손실: 0.0571\n",
      "18번째 스텝의 손실: 0.0541\n",
      "19번째 스텝의 손실: 0.0514\n",
      "20번째 스텝의 손실: 0.0489\n",
      "21번째 스텝의 손실: 0.0467\n",
      "22번째 스텝의 손실: 0.0446\n",
      "23번째 스텝의 손실: 0.0428\n",
      "24번째 스텝의 손실: 0.0411\n",
      "25번째 스텝의 손실: 0.0396\n",
      "26번째 스텝의 손실: 0.0382\n",
      "27번째 스텝의 손실: 0.0369\n",
      "28번째 스텝의 손실: 0.0358\n",
      "29번째 스텝의 손실: 0.0348\n",
      "30번째 스텝의 손실: 0.0338\n",
      "31번째 스텝의 손실: 0.0330\n",
      "32번째 스텝의 손실: 0.0322\n",
      "33번째 스텝의 손실: 0.0315\n",
      "34번째 스텝의 손실: 0.0309\n",
      "35번째 스텝의 손실: 0.0303\n",
      "36번째 스텝의 손실: 0.0297\n",
      "37번째 스텝의 손실: 0.0293\n",
      "38번째 스텝의 손실: 0.0288\n",
      "39번째 스텝의 손실: 0.0284\n"
     ]
    }
   ],
   "source": [
    "# 3-21 배치 훈련 루프\n",
    "\n",
    "for step in range(40):\n",
    "    loss = training_step(inputs, targets)\n",
    "    print(f\"{step}번째 스텝의 손실: {loss:.4f}\")"
   ]
  },
  {
   "cell_type": "code",
   "execution_count": 24,
   "id": "21f31b08",
   "metadata": {},
   "outputs": [
    {
     "data": {
      "image/png": "[encoded data removed]",
      "text/plain": [
       "<Figure size 432x288 with 1 Axes>"
      ]
     },
     "metadata": {
      "needs_background": "light"
     },
     "output_type": "display_data"
    }
   ],
   "source": [
    "predictions = model(inputs)\n",
    "plt.scatter(inputs[:, 0], inputs[:, 1], c=predictions[:, 0]>0.5)\n",
    "plt.show() # 훈련 타깃과 매우 유사하다"
   ]
  },
  {
   "cell_type": "code",
   "execution_count": 25,
   "id": "0ba2016f",
   "metadata": {},
   "outputs": [
    {
     "data": {
      "image/png": "[encoded data removed]",
      "text/plain": [
       "<Figure size 432x288 with 1 Axes>"
      ]
     },
     "metadata": {
      "needs_background": "light"
     },
     "output_type": "display_data"
    }
   ],
   "source": [
    "x = np.linspace(-1, 4, 100) # 직선을 그리기 위해 -1~4 사이에 일정한 간격을 가진 100개의 숫자 생성\n",
    "y = -W[0] / W[1] * x + (0.5 - b) / W[1] # 사용할 직선의 방정식\n",
    "plt.plot(x, y, \"-r\")\n",
    "plt.scatter(inputs[:, 0], inputs[:, 1], c=predictions[:, 0]>0.5)\n",
    "plt.show()"
   ]
  },
  {
   "cell_type": "markdown",
   "id": "e08689b0",
   "metadata": {},
   "source": [
    "# 3.6 신경망의 구조: 핵심 Keras API 이해하기\n",
    "## 3.6.1 층: 딥러닝의 구성 요소\n",
    "\n",
    "층은 하나 이상의 텐서를 입력으로 받고 하나 이상의 텐서를 출력하는 데이터 처리 모듈이다.\n",
    "대부분의 경우 가중치라는 층의 상태를 가진다. 가중치는 확률적 경사하강법으로 학습되는 하나 이상의 텐서이며 여기에 신경망이 학습한 지식이 담겨있다.\n",
    "랭크-2 텐서에 저장된 간단한 벡터 데이터는 밀집 연결층으로 처리하는 경우가 많다(Dense).\n",
    "이를 완전 연결층 또는 밀집층이라고도 부른다.\n",
    "랭크-3 텐서에 저장된 시퀀스 데이터는 일반적으로 LSTM 같은 순환층이나 1D 합성곱층(Cond1D)로 처리한다.\n",
    "랭크-4 텐서에 저장된 이미지 데이터는 보통 2D 합성곱 층(Conv2D)로 처리한다."
   ]
  },
  {
   "cell_type": "code",
   "execution_count": 26,
   "id": "b42ff848",
   "metadata": {},
   "outputs": [],
   "source": [
    "# 3-22 Layer의 서브클래스로 구현한 Dense 층\n",
    "\n",
    "from tensorflow import keras\n",
    "\n",
    "class SimpleDense(keras.layers.Layer): #모든 케라스 층은 Layer 클래스를 상속함\n",
    "    def __init__(self, units, activation=None):\n",
    "        super().__init__()\n",
    "        self.units = units\n",
    "        self.activation = activation\n",
    "        \n",
    "    def build(self, input_shape): # build() 메서드에서 가중치를 생성함\n",
    "        input_dim = input_shape[-1]\n",
    "        self.W = self.add_weight(shape=(input_dim, self.units),\n",
    "                                initializer=\"random_normal\")\n",
    "        self.b = self.add_weight(shape=(self.units,),\n",
    "                                initializer=\"zeros\")\n",
    "        \n",
    "    def call(self, inputs): # call() 메서드에서 정방향 패스 계산을 정의함\n",
    "        y = tf.matmul(inputs, self.W) + self.b\n",
    "        if self.activation is not None:\n",
    "            y = self.activation(y)\n",
    "        return y"
   ]
  },
  {
   "cell_type": "markdown",
   "id": "1f451bde",
   "metadata": {},
   "source": [
    "# 3.6.2 층에서 모델로\n",
    "\n",
    "딥러닝 모델은 층으로 구성된 그래프이다.\n",
    "케라스에서는 Model 클래스에 해당한다.\n",
    "모델의 구조는 가성 공간을 정의한다.\n",
    "네트워크 구조를 선택하면 가능성 있는 공간이 입력 데이터를 출력 데이터로 매핑하는 일련의 특정한 텐서 연산으로 제한된다."
   ]
  },
  {
   "cell_type": "markdown",
   "id": "a0d0d54a",
   "metadata": {},
   "source": [
    "# 3.6.3 '컴파일' 단계: 학습 과정 설정\n",
    "\n",
    "모델 구조를 정의하고 난 후 다음 세 가지를 더 선택해야 한다.\n",
    "\n",
    "1. 손실함수(목적함수): 훈련 과정에서 최소화할 값, 현재 작업에 대한 성공의 척도\n",
    "2. 옵티마이저: 손실 함수를 기반으로 네트워크가 어떻게 업데이트될지 결정. 특정 종류의 확률적 경사하강법(SGD)로 구현됨.\n",
    "3. 측정 지표: 훈련과 검증 과정에서 모니터링할 성공의 척도."
   ]
  },
  {
   "cell_type": "code",
   "execution_count": 27,
   "id": "f83bb56c",
   "metadata": {},
   "outputs": [],
   "source": [
    "model = keras.Sequential([keras.layers.Dense(1)])\n",
    "model.compile(optimizer=\"rmsprop\",\n",
    "             loss=\"mean_squared_error\",\n",
    "             metrics=[\"accuracy\"])"
   ]
  },
  {
   "cell_type": "markdown",
   "id": "cf768b79",
   "metadata": {},
   "source": [
    "# 3.6.4 손실 함수 선택하기\n",
    "\n",
    "2개의 클래스가 있는 분류 문제에는 이진 크로스엔트로피(binary crossentropy).\n",
    "여러 개의 클래스가 있는 분류 문제에는 범주형 크로스엔트피(categorical crossentropy).\n",
    "등등..."
   ]
  },
  {
   "cell_type": "markdown",
   "id": "5cf2deaf",
   "metadata": {},
   "source": [
    "# 3.6.5 fit() 메서드 이해하기\n",
    "\n",
    "주요 매개변수\n",
    "1. 훈련할 데이터(입력과 타깃): 일반적으로 넘파이 배열이나 텐서플로 Dataset 객체로 전달.\n",
    "2. 훈련할 Epoch 횟수: 전달한 데이터에서 훈련 루프를 몇 번이나 반복할지 알려줌.\n",
    "3. 미니 배치 경사 하강법의 각 에폭에서 사용할 배치 크기: 가중치 업데이트 단계에서 기울기를 계산하는 데 사용될 훈련 샘플 개수"
   ]
  },
  {
   "cell_type": "code",
   "execution_count": 28,
   "id": "07632d16",
   "metadata": {},
   "outputs": [
    {
     "name": "stdout",
     "output_type": "stream",
     "text": [
      "Epoch 1/5\n",
      "16/16 [==============================] - 0s 2ms/step - loss: 10.9373 - accuracy: 0.5610\n",
      "Epoch 2/5\n",
      "16/16 [==============================] - 0s 1ms/step - loss: 10.4258 - accuracy: 0.5620\n",
      "Epoch 3/5\n",
      "16/16 [==============================] - 0s 1ms/step - loss: 9.9923 - accuracy: 0.5635\n",
      "Epoch 4/5\n",
      "16/16 [==============================] - 0s 1ms/step - loss: 9.5793 - accuracy: 0.5640\n",
      "Epoch 5/5\n",
      "16/16 [==============================] - 0s 1ms/step - loss: 9.1800 - accuracy: 0.5650\n"
     ]
    }
   ],
   "source": [
    "# 3-23 넘파이 데이터로 fit() 메서드 호출하기\n",
    "\n",
    "history = model.fit(\n",
    "    inputs, # 입력 샘플(넘파이 배열)\n",
    "    targets, # 훈련 타깃(넘파이 배열)\n",
    "    epochs = 5, # 이 데이터에서 훈련 루프를 다섯 번 반복함\n",
    "    batch_size = 128) # 훈련 루프는 128개의 샘플 배치로 이 데이터를 순회함"
   ]
  },
  {
   "cell_type": "markdown",
   "id": "933d9b10",
   "metadata": {},
   "source": [
    "# 3.6.6 검증 데이터에서 손실과 측정 지표 모니터링 하기\n",
    "\n",
    "새로운 데이터에 모델이 어떻게 동작하는지 예상하기 위해 훈련 데이터의 일부를 검증 데이터로 떼어 놓는 것이 표준적인 방법.\n",
    "검증 데이터에서 모델을 훈련하지 않지만 이 데이터를 사용하여 손실과 측정 지표를 계산."
   ]
  },
  {
   "cell_type": "code",
   "execution_count": 29,
   "id": "18cf0ae1",
   "metadata": {},
   "outputs": [
    {
     "name": "stdout",
     "output_type": "stream",
     "text": [
      "Epoch 1/5\n",
      "88/88 [==============================] - 1s 3ms/step - loss: 0.1059 - binary_accuracy: 0.9543 - val_loss: 0.0278 - val_binary_accuracy: 0.9983\n",
      "Epoch 2/5\n",
      "88/88 [==============================] - 0s 1ms/step - loss: 0.0762 - binary_accuracy: 0.9507 - val_loss: 0.0331 - val_binary_accuracy: 0.9933\n",
      "Epoch 3/5\n",
      "88/88 [==============================] - 0s 1ms/step - loss: 0.0695 - binary_accuracy: 0.9621 - val_loss: 0.0402 - val_binary_accuracy: 0.9983\n",
      "Epoch 4/5\n",
      "88/88 [==============================] - 0s 2ms/step - loss: 0.0712 - binary_accuracy: 0.9607 - val_loss: 0.0452 - val_binary_accuracy: 0.9917\n",
      "Epoch 5/5\n",
      "88/88 [==============================] - 0s 1ms/step - loss: 0.0742 - binary_accuracy: 0.9571 - val_loss: 0.1967 - val_binary_accuracy: 0.8917\n"
     ]
    },
    {
     "data": {
      "text/plain": [
       "<keras.callbacks.History at 0x7b32c8ecf7f0>"
      ]
     },
     "execution_count": 29,
     "metadata": {},
     "output_type": "execute_result"
    }
   ],
   "source": [
    "model = keras. Sequential ([keras. layers. Dense(1)])\n",
    "model. compile(optimizer=keras.optimizers.RMSprop(learning_rate=0.1),\n",
    "    loss=keras.losses.MeanSquaredError(), \n",
    "    metrics=[keras.metrics.BinaryAccuracy ()])\n",
    "\n",
    "indices_permutation = np.random.permutation (len(inputs))\n",
    "shuffled_inputs = inputs[indices_permutation]\n",
    "shuffled_targets = targets[indices_permutation]\n",
    "# 검증 데이터에 한 클래스의 샘플만 포함되는 것을 막기 위해 랜덤하게 생성한 인덱스를 사용해서 입력과 타깃을 섞음\n",
    "\n",
    "num_validation_samples = int(0.3 * len(inputs))\n",
    "val_inputs = shuffled_inputs[:num_validation_samples]\n",
    "val_targets = shuffled_targets[:num_validation_samples]\n",
    "training_inputs = shuffled_inputs[num_validation_samples:]\n",
    "training_targets = shuffled_targets[num_validation_samples:]\n",
    "# 훈련 입력과 타깃의 30%를 검증용으로 떼어놓음(검증 손실과 측정 지표 계산을 위해 훈련 데이터에서 이 샘플을 제외시켜 따로 보관)\n",
    "\n",
    "model.fit(training_inputs, \n",
    "        training_targets, # 훈련 데이터는 모델의 가중치를 업데이트 하는데 사용\n",
    "        epochs=5,\n",
    "        batch_size=16,\n",
    "        validation_data=(val_inputs, val_targets) # 검증 데이터는 검증 손실과 측정 지표를 모니터링 하는데만 사용\n",
    ")"
   ]
  },
  {
   "cell_type": "code",
   "execution_count": null,
   "id": "31342c50",
   "metadata": {},
   "outputs": [],
   "source": []
  }
 ],
 "metadata": {
  "kernelspec": {
   "display_name": "Python 3 (ipykernel)",
   "language": "python",
   "name": "python3"
  },
  "language_info": {
   "codemirror_mode": {
    "name": "ipython",
    "version": 3
   },
   "file_extension": ".py",
   "mimetype": "text/x-python",
   "name": "python",
   "nbconvert_exporter": "python",
   "pygments_lexer": "ipython3",
   "version": "3.9.7"
  }
 },
 "nbformat": 4,
 "nbformat_minor": 5
}
